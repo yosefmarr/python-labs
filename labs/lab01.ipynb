{
 "cells": [
  {
   "cell_type": "markdown",
   "id": "9b25ff1f-9920-4a67-bc36-19f2545baaf4",
   "metadata": {},
   "source": [
    "<h1 style=\"text-align:center;\">Laboratorio 01</h1>\n",
    "<h4 style=\"text-align:center\">Yosef Maldonado - 14003689</h4>"
   ]
  },
  {
   "cell_type": "markdown",
   "id": "d68c301d-3864-4b07-b01e-ae5d5044505d",
   "metadata": {},
   "source": [
    "# Parte 1"
   ]
  },
  {
   "cell_type": "code",
   "execution_count": 2,
   "id": "e4e1781e-a0f1-4e2c-a6f8-fe7fe9ccf249",
   "metadata": {
    "tags": []
   },
   "outputs": [
    {
     "name": "stdin",
     "output_type": "stream",
     "text": [
      "Ingrese el número de segundos:  3661\n"
     ]
    },
    {
     "name": "stdout",
     "output_type": "stream",
     "text": [
      "1 hora(s), 1 minuto(s), 1 segundo(s)\n"
     ]
    }
   ],
   "source": [
    "# 1. Haga un programa en Python que reciba de parámetro un número de segundos y que despliegue en pantalla, las horas, minutos y segundos que representan.\n",
    "\n",
    "def secondsToTime(seconds):\n",
    "    seconds = int(seconds)\n",
    "    hours = seconds // 3600  # horas\n",
    "    minutes = (seconds % 3600) // 60  # minutos\n",
    "    seconds = seconds % 60  # segundos\n",
    "    print(f\"{hours} hora(s), {minutes} minuto(s), {seconds} segundo(s)\")\n",
    "    \n",
    "seconds_input = input('Ingrese el número de segundos: ')\n",
    "secondsToTime(seconds_input)\n"
   ]
  },
  {
   "cell_type": "code",
   "execution_count": 27,
   "id": "06e73272-6d26-4a7a-8d4a-bf0f0a6df14f",
   "metadata": {
    "tags": []
   },
   "outputs": [
    {
     "name": "stdout",
     "output_type": "stream",
     "text": [
      "~                                         ~ ~ ~ ~ ~ ~ ~ ~ ~ ~ ~ ~ ~ ~ ~ ~ ~ ~ ~ ~   ~                                         ~ ~ ~ ~ ~ ~ ~ ~ ~ ~ ~ ~ ~ ~ ~ ~ ~ ~ ~ ~   \n",
      "~ ~                                       ~ ~ ~ ~ ~ ~ ~ ~ ~ ~ ~ ~ ~ ~ ~ ~ ~ ~ ~     ~ ~                                       ~ ~ ~ ~ ~ ~ ~ ~ ~ ~ ~ ~ ~ ~ ~ ~ ~ ~ ~     \n",
      "~ ~ ~                                     ~ ~ ~ ~ ~ ~ ~ ~ ~ ~ ~ ~ ~ ~ ~ ~ ~ ~       ~ ~ ~                                     ~ ~ ~ ~ ~ ~ ~ ~ ~ ~ ~ ~ ~ ~ ~ ~ ~ ~       \n",
      "~ ~ ~ ~                                   ~ ~ ~ ~ ~ ~ ~ ~ ~ ~ ~ ~ ~ ~ ~ ~ ~         ~ ~ ~ ~                                   ~ ~ ~ ~ ~ ~ ~ ~ ~ ~ ~ ~ ~ ~ ~ ~ ~         \n",
      "~ ~ ~ ~ ~                                 ~ ~ ~ ~ ~ ~ ~ ~ ~ ~ ~ ~ ~ ~ ~ ~           ~ ~ ~ ~ ~                                 ~ ~ ~ ~ ~ ~ ~ ~ ~ ~ ~ ~ ~ ~ ~ ~           \n",
      "~ ~ ~ ~ ~ ~                               ~ ~ ~ ~ ~ ~ ~ ~ ~ ~ ~ ~ ~ ~ ~             ~ ~ ~ ~ ~ ~                               ~ ~ ~ ~ ~ ~ ~ ~ ~ ~ ~ ~ ~ ~ ~             \n",
      "~ ~ ~ ~ ~ ~ ~                             ~ ~ ~ ~ ~ ~ ~ ~ ~ ~ ~ ~ ~ ~               ~ ~ ~ ~ ~ ~ ~                             ~ ~ ~ ~ ~ ~ ~ ~ ~ ~ ~ ~ ~ ~               \n",
      "~ ~ ~ ~ ~ ~ ~ ~                           ~ ~ ~ ~ ~ ~ ~ ~ ~ ~ ~ ~ ~                 ~ ~ ~ ~ ~ ~ ~ ~                           ~ ~ ~ ~ ~ ~ ~ ~ ~ ~ ~ ~ ~                 \n",
      "~ ~ ~ ~ ~ ~ ~ ~ ~                         ~ ~ ~ ~ ~ ~ ~ ~ ~ ~ ~ ~                   ~ ~ ~ ~ ~ ~ ~ ~ ~                         ~ ~ ~ ~ ~ ~ ~ ~ ~ ~ ~ ~                   \n",
      "~ ~ ~ ~ ~ ~ ~ ~ ~ ~                       ~ ~ ~ ~ ~ ~ ~ ~ ~ ~ ~                     ~ ~ ~ ~ ~ ~ ~ ~ ~ ~                       ~ ~ ~ ~ ~ ~ ~ ~ ~ ~ ~                     \n",
      "~ ~ ~ ~ ~ ~ ~ ~ ~ ~ ~                     ~ ~ ~ ~ ~ ~ ~ ~ ~ ~                       ~ ~ ~ ~ ~ ~ ~ ~ ~ ~ ~                     ~ ~ ~ ~ ~ ~ ~ ~ ~ ~                       \n",
      "~ ~ ~ ~ ~ ~ ~ ~ ~ ~ ~ ~                   ~ ~ ~ ~ ~ ~ ~ ~ ~                         ~ ~ ~ ~ ~ ~ ~ ~ ~ ~ ~ ~                   ~ ~ ~ ~ ~ ~ ~ ~ ~                         \n",
      "~ ~ ~ ~ ~ ~ ~ ~ ~ ~ ~ ~ ~                 ~ ~ ~ ~ ~ ~ ~ ~                           ~ ~ ~ ~ ~ ~ ~ ~ ~ ~ ~ ~ ~                 ~ ~ ~ ~ ~ ~ ~ ~                           \n",
      "~ ~ ~ ~ ~ ~ ~ ~ ~ ~ ~ ~ ~ ~               ~ ~ ~ ~ ~ ~ ~                             ~ ~ ~ ~ ~ ~ ~ ~ ~ ~ ~ ~ ~ ~               ~ ~ ~ ~ ~ ~ ~                             \n",
      "~ ~ ~ ~ ~ ~ ~ ~ ~ ~ ~ ~ ~ ~ ~             ~ ~ ~ ~ ~ ~                               ~ ~ ~ ~ ~ ~ ~ ~ ~ ~ ~ ~ ~ ~ ~             ~ ~ ~ ~ ~ ~                               \n",
      "~ ~ ~ ~ ~ ~ ~ ~ ~ ~ ~ ~ ~ ~ ~ ~           ~ ~ ~ ~ ~                                 ~ ~ ~ ~ ~ ~ ~ ~ ~ ~ ~ ~ ~ ~ ~ ~           ~ ~ ~ ~ ~                                 \n",
      "~ ~ ~ ~ ~ ~ ~ ~ ~ ~ ~ ~ ~ ~ ~ ~ ~         ~ ~ ~ ~                                   ~ ~ ~ ~ ~ ~ ~ ~ ~ ~ ~ ~ ~ ~ ~ ~ ~         ~ ~ ~ ~                                   \n",
      "~ ~ ~ ~ ~ ~ ~ ~ ~ ~ ~ ~ ~ ~ ~ ~ ~ ~       ~ ~ ~                                     ~ ~ ~ ~ ~ ~ ~ ~ ~ ~ ~ ~ ~ ~ ~ ~ ~ ~       ~ ~ ~                                     \n",
      "~ ~ ~ ~ ~ ~ ~ ~ ~ ~ ~ ~ ~ ~ ~ ~ ~ ~ ~     ~ ~                                       ~ ~ ~ ~ ~ ~ ~ ~ ~ ~ ~ ~ ~ ~ ~ ~ ~ ~ ~     ~ ~                                       \n",
      "~ ~ ~ ~ ~ ~ ~ ~ ~ ~ ~ ~ ~ ~ ~ ~ ~ ~ ~ ~   ~                                         ~ ~ ~ ~ ~ ~ ~ ~ ~ ~ ~ ~ ~ ~ ~ ~ ~ ~ ~ ~   ~                                         \n"
     ]
    }
   ],
   "source": [
    "# 2.  Haga una función en Python que dado un número entre 1 y 20. Y un carácter cualquiera despliegue cuatro patrones triangulares.\n",
    "# Por ejemplo si el usuario ingresara el número 4 y el símbolo * el programa deberá desplegar lo siguiente\n",
    "def charLine(i, n, symbol, reverse=False):\n",
    "    line = (symbol + ' ') * i\n",
    "    if reverse:\n",
    "        line = line[::-1].rjust(n*2)  # reverse & justification\n",
    "    return line.strip()\n",
    "\n",
    "def trianglePatterns(n, symbol):\n",
    "    if not 1 <= n <= 20:\n",
    "        print('El numero debe de estar entre 1 y 20')\n",
    "        return\n",
    "    patterns = [[], [], [], []]\n",
    "    # 1 & 3 triangle\n",
    "    for i in range(1, n + 1):\n",
    "        patterns[0].append(charLine(i, n, symbol))\n",
    "        patterns[2].append(charLine(i, n, symbol, reverse=True))\n",
    "\n",
    "    # 2 & 4 triangle\n",
    "    for i in range(n, 0, -1):\n",
    "        patterns[1].append(charLine(i, n, symbol))\n",
    "        patterns[3].append(charLine(i, n, symbol, reverse=True))\n",
    "\n",
    "    # printing pattern\n",
    "    for i in range(n):\n",
    "        for j in range(4):\n",
    "            print(patterns[j][i].ljust(n*2), end='  ')\n",
    "        print()\n",
    "\n",
    "trianglePatterns(20, '~')\n",
    "        "
   ]
  },
  {
   "cell_type": "code",
   "execution_count": 31,
   "id": "6e8c5de7-9865-4e10-8c35-82eaa9217a1b",
   "metadata": {
    "tags": []
   },
   "outputs": [
    {
     "name": "stdin",
     "output_type": "stream",
     "text": [
      "Enter your birth day:  28\n",
      "Enter your birth month:  10\n",
      "Enter your birth year:  1995\n"
     ]
    },
    {
     "name": "stdout",
     "output_type": "stream",
     "text": [
      "Tienes 28 años, 4 meses y 13 días.\n"
     ]
    }
   ],
   "source": [
    "# 3. Haga un programa en Python que la fecha de nacimiento de una persona (puede ingresar por separado cada valor, es decir pedir primero día, luego mes y luego año), despliegue la edad de la persona en años, meses y días. Su resultado puede ser aproximado.\n",
    "\n",
    "from datetime import datetime\n",
    "\n",
    "def calcAge(birth_day, birth_month, birth_year):\n",
    "    birth_date = datetime(birth_year, birth_month, birth_day)\n",
    "    current_date = datetime.now()\n",
    "    \n",
    "    difference = current_date - birth_date\n",
    "    years = difference.days // 365\n",
    "    months = (difference.days % 365) // 30\n",
    "    days = (difference.days % 365) % 30\n",
    "\n",
    "    return years, months, days\n",
    "\n",
    "# user input\n",
    "day = int(input(\"Enter your birth day: \"))\n",
    "month = int(input(\"Enter your birth month: \"))\n",
    "year = int(input(\"Enter your birth year: \"))\n",
    "\n",
    "# calc\n",
    "age_years, age_months, age_days = calcAge(day, month, year)\n",
    "\n",
    "# print\n",
    "print(f\"Tienes {age_years} años, {age_months} meses y {age_days} días.\")\n",
    "\n",
    "\n"
   ]
  },
  {
   "cell_type": "code",
   "execution_count": 38,
   "id": "772537e2-3b27-4e92-ac55-15de9a956c3f",
   "metadata": {
    "tags": []
   },
   "outputs": [
    {
     "name": "stdout",
     "output_type": "stream",
     "text": [
      "102040570\n"
     ]
    }
   ],
   "source": [
    "# 4. Escriba una función en Python que dada una tupla de elementos (números o letras) esta se convierta a un string. Tomar nota del siguiente ejemplo:\n",
    "# Si la entrada fuera: (10, 20, 40, 5, 70) La salida deberíaa ser: 102040570\n",
    "\n",
    "def tupleToString(numbers):\n",
    "    return ''.join(str(n) for n in numbers)\n",
    "\n",
    "# test\n",
    "tuple_input = (10, 20, 40, 5, 70)\n",
    "result = tupleToString(tuple_input)\n",
    "print(result)\n",
    "\n"
   ]
  },
  {
   "cell_type": "code",
   "execution_count": 42,
   "id": "f5c466a4-202d-4fbf-b01b-ff98da20abf7",
   "metadata": {
    "tags": []
   },
   "outputs": [
    {
     "name": "stdout",
     "output_type": "stream",
     "text": [
      "[('X',), ('a', 'b'), ('a', 'b', 'c'), ('d',)]\n"
     ]
    }
   ],
   "source": [
    "# 5. Cree un programa en Python que dada una lista de tuplas, elimine las tuplas que están vacías. Tomar nota del siguiente ejemplo:\n",
    "# Si la lista fuera: [(), (), (’X’,), (’a’, ’b’), (’a’, ’b’, ’c’), (’d’)] El resultado debería ser: [(’X’), (’a’, ’b’), (’a’, ’b’, ’c’), ’d’]\n",
    "\n",
    "def tupleTrim(tuples):\n",
    "    return [t for t in tuples if t]\n",
    "\n",
    "# test\n",
    "list_tuple = [(), (), ('X',), ('a', 'b'), ('a', 'b', 'c'), ('d',)]\n",
    "result = tupleTrim(list_tuple)\n",
    "print(result)\n"
   ]
  },
  {
   "cell_type": "code",
   "execution_count": 44,
   "id": "acecefbc-039e-47b0-a38c-3844b6b6858b",
   "metadata": {
    "tags": []
   },
   "outputs": [
    {
     "name": "stdout",
     "output_type": "stream",
     "text": [
      "(10.5, 44.0, 58.0)\n"
     ]
    }
   ],
   "source": [
    "# 6. Cree una función en Python que dada una tupla de tuplas con números, produzca una tupla con el promedio de cada tupla individual, debe usar comprehensions para desarrollar este ejercicio. Tomar nota del siguiente ejemplo:\n",
    "# Si la tupla de entrada fuera: ((10, 10, 10, 12), (30, 45, 56, 45), (81, 80, 39, 32)) El resultado deber ́ıa ser: (10.5, 44, 58)\n",
    "\n",
    "def tupleAverage(tuples):\n",
    "    return tuple(sum(t) / len(t) for t in tuples if t)\n",
    "\n",
    "# test\n",
    "tuples_input = ((10, 10, 10, 12), (30, 45, 56, 45), (81, 80, 39, 32))\n",
    "result = tupleAverage(tuples_input)\n",
    "print(result)\n"
   ]
  }
 ],
 "metadata": {
  "kernelspec": {
   "display_name": "Python 3 (ipykernel)",
   "language": "python",
   "name": "python3"
  },
  "language_info": {
   "codemirror_mode": {
    "name": "ipython",
    "version": 3
   },
   "file_extension": ".py",
   "mimetype": "text/x-python",
   "name": "python",
   "nbconvert_exporter": "python",
   "pygments_lexer": "ipython3",
   "version": "3.11.5"
  }
 },
 "nbformat": 4,
 "nbformat_minor": 5
}
