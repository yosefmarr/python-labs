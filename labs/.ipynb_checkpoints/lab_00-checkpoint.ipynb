{
 "cells": [
  {
   "cell_type": "markdown",
   "metadata": {},
   "source": [
    "<h1 style=\"text-align:center;\">Laboratorio 00</h1>\n",
    "<h4 style=\"text-align:center\">Yosef Maldonado - 14003689</h4>"
   ]
  },
  {
   "cell_type": "markdown",
   "metadata": {},
   "source": [
    "## Git\n",
    "\n",
    "Git es un sistema de control de versiones distribuido, gratuito y de código abierto, diseñado para manejar todo tipo de proyectos, desde pequeños a muy grandes, con velocidad y eficiencia. Git permite a los desarrolladores rastrear y gestionar cambios en el código fuente a lo largo del tiempo, facilitando la colaboración entre múltiples contribuyentes al permitir que cada uno trabaje de manera independiente en su propia copia del proyecto y luego combine esos cambios en una fuente común. Ofrece funcionalidades para el control de versiones como ramificación y fusión, lo que permite a los equipos trabajar en paralelo en diferentes características o versiones sin interferir entre sí. Además, Git asegura la integridad del código fuente con un historial completo y rastreable de cambios, lo que lo convierte en una herramienta esencial para el desarrollo de software moderno."
   ]
  },
  {
   "cell_type": "markdown",
   "metadata": {
    "tags": []
   },
   "source": [
    "## Github\n",
    "GitHub es una plataforma de alojamiento de código para el control de versiones y la colaboración. Permite a los desarrolladores almacenar y gestionar su código en repositorios, trabajar juntos en proyectos de cualquier tamaño con facilidad y eficiencia, desde cualquier lugar. Basado en el sistema de control de versiones Git, GitHub introduce una capa social y de interfaz web sobre Git, facilitando a los usuarios la colaboración en proyectos, el seguimiento de problemas, la contribución a código ajeno y la creación de una red al compartir sus propios proyectos. Además, GitHub ofrece características como solicitudes de extracción (pull requests), donde los cambios pueden ser revisados y discutidos antes de ser integrados al proyecto principal, y acciones de GitHub (GitHub Actions) para automatizar flujos de trabajo de software. Es ampliamente utilizado por desarrolladores individuales, equipos y organizaciones para alojar proyectos de código abierto y privados, convirtiéndose en una herramienta fundamental en el mundo del desarrollo de software."
   ]
  },
  {
   "cell_type": "markdown",
   "metadata": {
    "tags": []
   },
   "source": [
    "## Magic Cell\n",
    "\n",
    "Este termino hace referencia a las celdas que contienen comandos llamados \"Magic commands\" que afectan el comportamiento del cuaderno de manera global cuando se utilizan al principio de una celda con el prefijo `%%`. A diferencia de los \"Magic commands\" de línea, que comienzan con `%` y actúan sobre una única línea dentro de una celda, las \"Magic cells\" aplican su efecto sobre todo el contenido de la celda donde se utilizan.\n",
    "\n",
    "Estas celdas mágicas ofrecen una amplia gama de funcionalidades que pueden ayudar a mejorar la eficiencia del flujo de trabajo, facilitar la visualización de datos, ejecutar código en diferentes lenguajes de programación dentro de un mismo cuaderno, entre otras cosas. Algunas de las celdas mágicas más utilizadas incluyen:\n",
    "\n",
    "- `%%writefile`: Guarda el contenido de la celda en un archivo.\n",
    "- `%%timeit`: Mide el tiempo de ejecución del código en la celda para pruebas de rendimiento.\n",
    "- `%%html`: Permite la incorporación de código HTML directamente en la celda para ser renderizado por el navegador.\n",
    "- `%%latex`: Para escribir expresiones matemáticas que serán renderizadas como LaTeX.\n",
    "- `%%python`, `%%ruby`, `%%perl`, etc.: Permiten ejecutar código en el lenguaje especificado, facilitando el trabajo con múltiples lenguajes de programación en un único cuaderno.\n",
    "\n",
    "Estas herramientas son especialmente valiosas para la experimentación rápida, la documentación de procesos de análisis de datos y la creación de tutoriales interactivos, ya que permiten a los usuarios combinar código, salidas de ejecución, visualizaciones, y narrativas textuales en un único documento interactivo.\n",
    "\n",
    "\n",
    "\n",
    "\n"
   ]
  },
  {
   "cell_type": "markdown",
   "metadata": {},
   "source": [
    "### Ejemplo"
   ]
  },
  {
   "cell_type": "code",
   "execution_count": 14,
   "metadata": {
    "tags": []
   },
   "outputs": [
    {
     "data": {
      "text/html": [
       "<!DOCTYPE html>\n",
       "<html lang=\"es\">\n",
       "<head>\n",
       "    <meta charset=\"UTF-8\">\n",
       "    <meta name=\"viewport\" content=\"width=device-width, initial-scale=1.0\">\n",
       "    <title>Happy</title>\n",
       "    <style>\n",
       "        body, html {\n",
       "            height: 100%;\n",
       "            margin: 0;\n",
       "            display: flex;\n",
       "            justify-content: center;\n",
       "            align-items: center;\n",
       "            background-color: #f0f0f0;\n",
       "        }\n",
       "        .face {\n",
       "            width: 100px;\n",
       "            height: 100px;\n",
       "            background-color: yellow;\n",
       "            border-radius: 50%;\n",
       "            position: relative;\n",
       "            display: flex;\n",
       "            align-items: center;\n",
       "            justify-content: center;\n",
       "        }\n",
       "        .eye {\n",
       "            width: 15px;\n",
       "            height: 15px;\n",
       "            background-color: black;\n",
       "            border-radius: 50%;\n",
       "            position: absolute;\n",
       "        }\n",
       "        .eye.left { left: 30px; }\n",
       "        .eye.right { right: 30px; }\n",
       "        .smile {\n",
       "            width: 50px;\n",
       "            height: 20px;\n",
       "            border-bottom: 5px solid black;\n",
       "            position: absolute;\n",
       "            bottom: 20px;\n",
       "            border-radius: 0 0 40px 40px;\n",
       "        }\n",
       "    </style>\n",
       "</head>\n",
       "<body>\n",
       "    <div class=\"face\">\n",
       "        <div class=\"eye left\"></div>\n",
       "        <div class=\"eye right\"></div>\n",
       "        <div class=\"smile\"></div>\n",
       "    </div>\n",
       "</body>\n",
       "</html>\n"
      ],
      "text/plain": [
       "<IPython.core.display.HTML object>"
      ]
     },
     "metadata": {},
     "output_type": "display_data"
    }
   ],
   "source": [
    "%%html\n",
    "<!DOCTYPE html>\n",
    "<html lang=\"es\">\n",
    "<head>\n",
    "    <meta charset=\"UTF-8\">\n",
    "    <meta name=\"viewport\" content=\"width=device-width, initial-scale=1.0\">\n",
    "    <title>Happy</title>\n",
    "    <style>\n",
    "        body, html {\n",
    "            height: 100%;\n",
    "            margin: 0;\n",
    "            display: flex;\n",
    "            justify-content: center;\n",
    "            align-items: center;\n",
    "            background-color: #f0f0f0;\n",
    "        }\n",
    "        .face {\n",
    "            width: 100px;\n",
    "            height: 100px;\n",
    "            background-color: yellow;\n",
    "            border-radius: 50%;\n",
    "            position: relative;\n",
    "            display: flex;\n",
    "            align-items: center;\n",
    "            justify-content: center;\n",
    "        }\n",
    "        .eye {\n",
    "            width: 15px;\n",
    "            height: 15px;\n",
    "            background-color: black;\n",
    "            border-radius: 50%;\n",
    "            position: absolute;\n",
    "        }\n",
    "        .eye.left { left: 30px; }\n",
    "        .eye.right { right: 30px; }\n",
    "        .smile {\n",
    "            width: 50px;\n",
    "            height: 20px;\n",
    "            border-bottom: 5px solid black;\n",
    "            position: absolute;\n",
    "            bottom: 20px;\n",
    "            border-radius: 0 0 40px 40px;\n",
    "        }\n",
    "    </style>\n",
    "</head>\n",
    "<body>\n",
    "    <div class=\"face\">\n",
    "        <div class=\"eye left\"></div>\n",
    "        <div class=\"eye right\"></div>\n",
    "        <div class=\"smile\"></div>\n",
    "    </div>\n",
    "</body>\n",
    "</html>"
   ]
  },
  {
   "cell_type": "code",
   "execution_count": 9,
   "metadata": {
    "tags": []
   },
   "outputs": [
    {
     "name": "stdout",
     "output_type": "stream",
     "text": [
      "15.8 µs ± 135 ns per loop (mean ± std. dev. of 7 runs, 100,000 loops each)\n"
     ]
    }
   ],
   "source": [
    "%%timeit\n",
    "sum = 0\n",
    "for i in range(1000):\n",
    "    sum += i"
   ]
  }
 ],
 "metadata": {
  "kernelspec": {
   "display_name": "Python 3 (ipykernel)",
   "language": "python",
   "name": "python3"
  },
  "language_info": {
   "codemirror_mode": {
    "name": "ipython",
    "version": 3
   },
   "file_extension": ".py",
   "mimetype": "text/x-python",
   "name": "python",
   "nbconvert_exporter": "python",
   "pygments_lexer": "ipython3",
   "version": "3.11.5"
  }
 },
 "nbformat": 4,
 "nbformat_minor": 4
}
